{
 "cells": [
  {
   "cell_type": "code",
   "execution_count": 4,
   "id": "1c7ed2a9-b2d7-4321-8fb4-854736ea2e23",
   "metadata": {},
   "outputs": [],
   "source": [
    "import nltk\n",
    "from nltk.sentiment.vader import SentimentIntensityAnalyzer\n",
    "import numpy as np\n",
    "import pandas as pd\n",
    "import pickle\n",
    "import re\n",
    "import json"
   ]
  },
  {
   "cell_type": "markdown",
   "id": "1dd45df5-6922-44ec-b422-ed193f206204",
   "metadata": {},
   "source": [
    "# Part 1 - Setup\n",
    "First we find all the words that are present within the sentiment analyzer lexicon.\n"
   ]
  },
  {
   "cell_type": "code",
   "execution_count": 5,
   "id": "a6a4cee6-d31e-46ef-adb1-15df78fad229",
   "metadata": {},
   "outputs": [],
   "source": [
    "sid = SentimentIntensityAnalyzer()\n",
    "exps = list(sid.lexicon.keys())"
   ]
  },
  {
   "cell_type": "markdown",
   "id": "89db6f69-80e2-4c12-9207-6397b0200979",
   "metadata": {},
   "source": [
    "Then cut the list to only include pronounceable words."
   ]
  },
  {
   "cell_type": "code",
   "execution_count": 7,
   "id": "bbf3d611-b3e7-482b-ab83-f03bab1174a8",
   "metadata": {},
   "outputs": [
    {
     "name": "stdout",
     "output_type": "stream",
     "text": [
      "Number of words we can work with: 7049\n"
     ]
    }
   ],
   "source": [
    "start_index = exps.index(\"abandon\")\n",
    "end_index = exps.index(\"zealous\")\n",
    "words = exps[start_index:end_index + 1]\n",
    "print(f\"Number of words we can work with: {len(words)}\")"
   ]
  },
  {
   "cell_type": "markdown",
   "id": "3b90a88a-e4ed-4a2f-8e62-c49190b8894a",
   "metadata": {},
   "source": [
    "We are left with over 7000 words to choose from.\n",
    "We now pack them into a txt file and feed the text file into the ***CMU phonetic analyzer.***\n",
    "The tool can be found at this link: http://www.speech.cs.cmu.edu/tools/lextool.html"
   ]
  },
  {
   "cell_type": "code",
   "execution_count": 8,
   "id": "aa0335e0-aa54-4577-aa7a-68b7bdc7396e",
   "metadata": {},
   "outputs": [],
   "source": [
    "# We are left with over 7000 words to choose from.\n",
    "# We now pack them into a txt file and feed the text file into the CMU phonetic analyzer.\n",
    "with open(\"raw.txt\", 'w') as file:\n",
    "    for word in words:\n",
    "        file.write(word + \"\\n\")"
   ]
  },
  {
   "cell_type": "markdown",
   "id": "71721dd5-51b5-4a36-95f8-d45f26075ba3",
   "metadata": {},
   "source": [
    "The phonetic pronunciations of these words are now located in phonetic.txt.\n",
    "We need to do some data tidying in order to streamline this process. Let's feed the data into two arrays, one containing the word, and the other containing the pronunciation\n",
    "\n",
    "We override the words array, as it will now need to contain duplicates for duplicate pronunciations."
   ]
  },
  {
   "cell_type": "code",
   "execution_count": 9,
   "id": "9e7b7fca-4335-4f8c-8251-93ed12a6f6fb",
   "metadata": {},
   "outputs": [],
   "source": [
    "words = []\n",
    "sounds = []\n",
    "sents = []"
   ]
  },
  {
   "cell_type": "code",
   "execution_count": 12,
   "id": "2fa1f959-e76a-462d-9508-98037dea1577",
   "metadata": {},
   "outputs": [],
   "source": [
    "with open(r\"phonetic.txt\", 'r') as file:\n",
    "    line = file.readline()\n",
    "    while not line == \"\":\n",
    "        split_line = line.split('\\t')\n",
    "        word = str.lower(split_line[0].split('(')[0])\n",
    "        sound = split_line[1].split('\\n')[0].split(\" \")\n",
    "        sentiment = sid.polarity_scores(word)['compound']\n",
    "\n",
    "        words.append(word)\n",
    "        sounds.append(sound)\n",
    "        sents.append(sentiment)\n",
    "\n",
    "        line = file.readline()"
   ]
  },
  {
   "cell_type": "markdown",
   "id": "49a31feb-5ee0-4fb7-a2d3-884af4cfe015",
   "metadata": {},
   "source": [
    "We have the word, the corresponding pronunciation, and the sentiment score all together.\n",
    "\n",
    "Let's export this into a CSV for future analysis."
   ]
  },
  {
   "cell_type": "code",
   "execution_count": 11,
   "id": "56e28308-b059-49ee-b9ed-9e2e8bc65157",
   "metadata": {},
   "outputs": [],
   "source": [
    "df = pd.DataFrame({\"words\": words, \"sounds\": sounds, \"sents\": sents})\n",
    "df.to_csv(r\"T3000_Sounds_Sentimized.csv\")"
   ]
  },
  {
   "cell_type": "markdown",
   "id": "c180d356-b9a4-4099-9de1-9292a3235115",
   "metadata": {},
   "source": [
    "# Part 2 - Data Tidying\n",
    "\n",
    "The initialization is now complete.\n",
    "\n",
    "Now we move onto creating a neural network model based on the data.\n",
    "Let's enumerate the phonetic data into integers. They will be stored in enum_sounds.\n"
   ]
  },
  {
   "cell_type": "code",
   "execution_count": 20,
   "id": "f1656b3a-6835-4d35-807b-330abf018296",
   "metadata": {},
   "outputs": [],
   "source": [
    "flattened_sounds = [element for sublist in sounds for element in sublist]\n",
    "unique_sounds = sorted(pd.unique(flattened_sounds))\n",
    "NUM_SOUNDS = len(unique_sounds)\n",
    "\n",
    "# Creating a dictionary translator to make generating the new list easier.\n",
    "translator = {}\n",
    "for index, sound in enumerate(unique_sounds):\n",
    "    translator[sound] = index\n",
    "\n",
    "# Transposing the old sounds into the new list.\n",
    "numerical_sounds = []\n",
    "for seq in sounds:\n",
    "    new_seq = [translator[sound] for sound in seq]\n",
    "    # counter = [new_seq.count(index) for index in range(NUM_SOUNDS)]\n",
    "    numerical_sounds.append(new_seq)\n",
    "    # enum_sounds.append(counter)"
   ]
  },
  {
   "cell_type": "code",
   "execution_count": 21,
   "id": "a122eea2-9dd6-4155-8828-36fb5eea4998",
   "metadata": {},
   "outputs": [],
   "source": [
    "enum_sounds = []\n",
    "for seq in numerical_sounds:\n",
    "    counter = [seq.count(index) for index in range(NUM_SOUNDS)]\n",
    "    enum_sounds.append(counter)"
   ]
  },
  {
   "cell_type": "markdown",
   "id": "77ddad66-b679-45c1-9535-c3069f494711",
   "metadata": {},
   "source": [
    "# Part 3 - Machine Learning\n",
    "\n",
    "Excellent! Now we can begin the ML fun stuff!"
   ]
  },
  {
   "cell_type": "code",
   "execution_count": 16,
   "id": "a4798a08-dde1-49ab-bc93-f20a0b0e83c8",
   "metadata": {},
   "outputs": [],
   "source": [
    "import numpy as np\n",
    "import tensorflow as ts\n",
    "from tensorflow.keras.models import Sequential\n",
    "from tensorflow.keras.layers import LSTM, Dense, Embedding\n",
    "from tensorflow.keras.preprocessing.sequence import pad_sequences\n",
    "from sklearn.model_selection import train_test_split"
   ]
  },
  {
   "cell_type": "code",
   "execution_count": 22,
   "id": "db71b4d1-26f3-46f0-9667-498a8c4b92a2",
   "metadata": {},
   "outputs": [],
   "source": [
    "subset = 100000\n",
    "phonetic_data = np.array(enum_sounds[:subset]) # Giving the option to use a subset of the data.\n",
    "np_sents = np.array(sents[:subset])\n",
    "X_train, X_test, y_train, y_test = train_test_split(phonetic_data, np_sents, test_size=0.1) # Keeping the test size smaller because there's not an abudance of data"
   ]
  },
  {
   "cell_type": "markdown",
   "id": "fb350110-8b8a-4534-b78f-012f41c67ff9",
   "metadata": {},
   "source": [
    "Now let's define the model"
   ]
  },
  {
   "cell_type": "code",
   "execution_count": 25,
   "id": "3ff2ad28-5463-45e6-abed-f203286e334a",
   "metadata": {},
   "outputs": [
    {
     "name": "stdout",
     "output_type": "stream",
     "text": [
      "Epoch 1/10\n"
     ]
    },
    {
     "name": "stderr",
     "output_type": "stream",
     "text": [
      "A:\\Applications\\Anaconda\\lib\\site-packages\\keras\\src\\layers\\core\\dense.py:87: UserWarning: Do not pass an `input_shape`/`input_dim` argument to a layer. When using Sequential models, prefer using an `Input(shape)` object as the first layer in the model instead.\n",
      "  super().__init__(activity_regularizer=activity_regularizer, **kwargs)\n"
     ]
    },
    {
     "name": "stdout",
     "output_type": "stream",
     "text": [
      "\u001b[1m13518/13518\u001b[0m \u001b[32m━━━━━━━━━━━━━━━━━━━━\u001b[0m\u001b[37m\u001b[0m \u001b[1m16s\u001b[0m 1ms/step - loss: 0.1385\n",
      "Epoch 2/10\n",
      "\u001b[1m13518/13518\u001b[0m \u001b[32m━━━━━━━━━━━━━━━━━━━━\u001b[0m\u001b[37m\u001b[0m \u001b[1m15s\u001b[0m 1ms/step - loss: 0.1013\n",
      "Epoch 3/10\n",
      "\u001b[1m13518/13518\u001b[0m \u001b[32m━━━━━━━━━━━━━━━━━━━━\u001b[0m\u001b[37m\u001b[0m \u001b[1m15s\u001b[0m 1ms/step - loss: 0.0769\n",
      "Epoch 4/10\n",
      "\u001b[1m13518/13518\u001b[0m \u001b[32m━━━━━━━━━━━━━━━━━━━━\u001b[0m\u001b[37m\u001b[0m \u001b[1m15s\u001b[0m 1ms/step - loss: 0.0624\n",
      "Epoch 5/10\n",
      "\u001b[1m13518/13518\u001b[0m \u001b[32m━━━━━━━━━━━━━━━━━━━━\u001b[0m\u001b[37m\u001b[0m \u001b[1m15s\u001b[0m 1ms/step - loss: 0.0526\n",
      "Epoch 6/10\n",
      "\u001b[1m13518/13518\u001b[0m \u001b[32m━━━━━━━━━━━━━━━━━━━━\u001b[0m\u001b[37m\u001b[0m \u001b[1m14s\u001b[0m 1ms/step - loss: 0.0450\n",
      "Epoch 7/10\n",
      "\u001b[1m13518/13518\u001b[0m \u001b[32m━━━━━━━━━━━━━━━━━━━━\u001b[0m\u001b[37m\u001b[0m \u001b[1m14s\u001b[0m 1ms/step - loss: 0.0393\n",
      "Epoch 8/10\n",
      "\u001b[1m13518/13518\u001b[0m \u001b[32m━━━━━━━━━━━━━━━━━━━━\u001b[0m\u001b[37m\u001b[0m \u001b[1m15s\u001b[0m 1ms/step - loss: 0.0352\n",
      "Epoch 9/10\n",
      "\u001b[1m13518/13518\u001b[0m \u001b[32m━━━━━━━━━━━━━━━━━━━━\u001b[0m\u001b[37m\u001b[0m \u001b[1m14s\u001b[0m 1ms/step - loss: 0.0329\n",
      "Epoch 10/10\n",
      "\u001b[1m13518/13518\u001b[0m \u001b[32m━━━━━━━━━━━━━━━━━━━━\u001b[0m\u001b[37m\u001b[0m \u001b[1m15s\u001b[0m 1ms/step - loss: 0.0298\n",
      "Test Loss: 0.044106438755989075\n"
     ]
    }
   ],
   "source": [
    "\n",
    "model_N = ts.keras.models.Sequential()\n",
    "model_N.add(Dense(64, input_shape=(NUM_SOUNDS,), activation='relu'))\n",
    "model_N.add(Dense(128, activation='relu'))\n",
    "model_N.add(Dense(32, activation='relu'))\n",
    "model_N.add(Dense(1))\n",
    "\n",
    "model_N.compile(loss='mean_squared_error', optimizer='adam')\n",
    "\n",
    "model_N.fit(X_train, y_train, epochs=10, batch_size=1)\n",
    "\n",
    "loss = model_N.evaluate(X_test, y_test, verbose=0)\n",
    "print(\"Test Loss:\", loss)"
   ]
  },
  {
   "cell_type": "markdown",
   "id": "7ac328a8-611e-4c26-aadb-1ef37e13d980",
   "metadata": {},
   "source": [
    "Neural networks seem to be overfitting to the data a bit, as the test loss is signficantly higher than the training loss.\n",
    "Now let's save the model into a pickle file"
   ]
  },
  {
   "cell_type": "code",
   "execution_count": 26,
   "id": "e50b05e0-afca-427d-beea-aae5d5a4c31c",
   "metadata": {},
   "outputs": [],
   "source": [
    "import pickle\n",
    "\n",
    "with open(r\"neural_model.pkl\", \"wb\") as f:\n",
    "    pickle.dump(model_N, f)"
   ]
  },
  {
   "cell_type": "markdown",
   "id": "1389fd6f-0d3b-4bb0-84be-55c873406b9c",
   "metadata": {},
   "source": [
    "The structure of a **decision tree** more accurately conveys the structure beheind sound combinations producing a sentiment. Let's use it instead!"
   ]
  },
  {
   "cell_type": "code",
   "execution_count": 27,
   "id": "5866f7aa-5607-4268-a919-d87febabb1e8",
   "metadata": {},
   "outputs": [],
   "source": [
    "# The structure of a decision tree more accurately conveys the structure beheind sound combinations producing a sentiment.\n",
    "# Let's use it instead!\n",
    "from sklearn.ensemble import RandomForestRegressor, RandomForestClassifier\n",
    "from sklearn.model_selection import train_test_split\n",
    "from sklearn.metrics import mean_squared_error, mean_absolute_error, accuracy_score"
   ]
  },
  {
   "cell_type": "code",
   "execution_count": 28,
   "id": "02c9b1e2-17ca-4461-88aa-f264e88f4596",
   "metadata": {},
   "outputs": [
    {
     "data": {
      "text/html": [
       "<style>#sk-container-id-1 {color: black;background-color: white;}#sk-container-id-1 pre{padding: 0;}#sk-container-id-1 div.sk-toggleable {background-color: white;}#sk-container-id-1 label.sk-toggleable__label {cursor: pointer;display: block;width: 100%;margin-bottom: 0;padding: 0.3em;box-sizing: border-box;text-align: center;}#sk-container-id-1 label.sk-toggleable__label-arrow:before {content: \"▸\";float: left;margin-right: 0.25em;color: #696969;}#sk-container-id-1 label.sk-toggleable__label-arrow:hover:before {color: black;}#sk-container-id-1 div.sk-estimator:hover label.sk-toggleable__label-arrow:before {color: black;}#sk-container-id-1 div.sk-toggleable__content {max-height: 0;max-width: 0;overflow: hidden;text-align: left;background-color: #f0f8ff;}#sk-container-id-1 div.sk-toggleable__content pre {margin: 0.2em;color: black;border-radius: 0.25em;background-color: #f0f8ff;}#sk-container-id-1 input.sk-toggleable__control:checked~div.sk-toggleable__content {max-height: 200px;max-width: 100%;overflow: auto;}#sk-container-id-1 input.sk-toggleable__control:checked~label.sk-toggleable__label-arrow:before {content: \"▾\";}#sk-container-id-1 div.sk-estimator input.sk-toggleable__control:checked~label.sk-toggleable__label {background-color: #d4ebff;}#sk-container-id-1 div.sk-label input.sk-toggleable__control:checked~label.sk-toggleable__label {background-color: #d4ebff;}#sk-container-id-1 input.sk-hidden--visually {border: 0;clip: rect(1px 1px 1px 1px);clip: rect(1px, 1px, 1px, 1px);height: 1px;margin: -1px;overflow: hidden;padding: 0;position: absolute;width: 1px;}#sk-container-id-1 div.sk-estimator {font-family: monospace;background-color: #f0f8ff;border: 1px dotted black;border-radius: 0.25em;box-sizing: border-box;margin-bottom: 0.5em;}#sk-container-id-1 div.sk-estimator:hover {background-color: #d4ebff;}#sk-container-id-1 div.sk-parallel-item::after {content: \"\";width: 100%;border-bottom: 1px solid gray;flex-grow: 1;}#sk-container-id-1 div.sk-label:hover label.sk-toggleable__label {background-color: #d4ebff;}#sk-container-id-1 div.sk-serial::before {content: \"\";position: absolute;border-left: 1px solid gray;box-sizing: border-box;top: 0;bottom: 0;left: 50%;z-index: 0;}#sk-container-id-1 div.sk-serial {display: flex;flex-direction: column;align-items: center;background-color: white;padding-right: 0.2em;padding-left: 0.2em;position: relative;}#sk-container-id-1 div.sk-item {position: relative;z-index: 1;}#sk-container-id-1 div.sk-parallel {display: flex;align-items: stretch;justify-content: center;background-color: white;position: relative;}#sk-container-id-1 div.sk-item::before, #sk-container-id-1 div.sk-parallel-item::before {content: \"\";position: absolute;border-left: 1px solid gray;box-sizing: border-box;top: 0;bottom: 0;left: 50%;z-index: -1;}#sk-container-id-1 div.sk-parallel-item {display: flex;flex-direction: column;z-index: 1;position: relative;background-color: white;}#sk-container-id-1 div.sk-parallel-item:first-child::after {align-self: flex-end;width: 50%;}#sk-container-id-1 div.sk-parallel-item:last-child::after {align-self: flex-start;width: 50%;}#sk-container-id-1 div.sk-parallel-item:only-child::after {width: 0;}#sk-container-id-1 div.sk-dashed-wrapped {border: 1px dashed gray;margin: 0 0.4em 0.5em 0.4em;box-sizing: border-box;padding-bottom: 0.4em;background-color: white;}#sk-container-id-1 div.sk-label label {font-family: monospace;font-weight: bold;display: inline-block;line-height: 1.2em;}#sk-container-id-1 div.sk-label-container {text-align: center;}#sk-container-id-1 div.sk-container {/* jupyter's `normalize.less` sets `[hidden] { display: none; }` but bootstrap.min.css set `[hidden] { display: none !important; }` so we also need the `!important` here to be able to override the default hidden behavior on the sphinx rendered scikit-learn.org. See: https://github.com/scikit-learn/scikit-learn/issues/21755 */display: inline-block !important;position: relative;}#sk-container-id-1 div.sk-text-repr-fallback {display: none;}</style><div id=\"sk-container-id-1\" class=\"sk-top-container\"><div class=\"sk-text-repr-fallback\"><pre>RandomForestRegressor(n_estimators=200, random_state=42)</pre><b>In a Jupyter environment, please rerun this cell to show the HTML representation or trust the notebook. <br />On GitHub, the HTML representation is unable to render, please try loading this page with nbviewer.org.</b></div><div class=\"sk-container\" hidden><div class=\"sk-item\"><div class=\"sk-estimator sk-toggleable\"><input class=\"sk-toggleable__control sk-hidden--visually\" id=\"sk-estimator-id-1\" type=\"checkbox\" checked><label for=\"sk-estimator-id-1\" class=\"sk-toggleable__label sk-toggleable__label-arrow\">RandomForestRegressor</label><div class=\"sk-toggleable__content\"><pre>RandomForestRegressor(n_estimators=200, random_state=42)</pre></div></div></div></div></div>"
      ],
      "text/plain": [
       "RandomForestRegressor(n_estimators=200, random_state=42)"
      ]
     },
     "execution_count": 28,
     "metadata": {},
     "output_type": "execute_result"
    }
   ],
   "source": [
    "# Initialize the RandomForestRegressor\n",
    "model_F = RandomForestRegressor(n_estimators=200, random_state=42)\n",
    "\n",
    "# Train the model\n",
    "model_F.fit(X_train, y_train)"
   ]
  },
  {
   "cell_type": "code",
   "execution_count": 29,
   "id": "0b78bc5a-726e-4c78-a167-283437d71873",
   "metadata": {},
   "outputs": [
    {
     "name": "stdout",
     "output_type": "stream",
     "text": [
      "Mean Squared Error: 0.016514786862632212\n",
      "Mean Absolute Error: 0.08611533678031288\n",
      "Accuracy: 0.9647137150466045\n"
     ]
    }
   ],
   "source": [
    "# Make predictions\n",
    "y_pred = model_F.predict(X_test)\n",
    "\n",
    "pred_cat = np.array([pred > 0 for pred in y_pred])\n",
    "test_cat = np.array([test > 0 for test in y_test])\n",
    "\n",
    "# Evaluate the model\n",
    "mse = mean_squared_error(y_test, y_pred)\n",
    "mae = mean_absolute_error(y_test, y_pred)\n",
    "acc = accuracy_score(test_cat, pred_cat)\n",
    "print(f'Mean Squared Error: {mse}')\n",
    "print(f'Mean Absolute Error: {mae}')\n",
    "print(f'Accuracy: {acc}')"
   ]
  },
  {
   "cell_type": "markdown",
   "id": "de6a4372-46f5-4737-b154-bc1c036248da",
   "metadata": {},
   "source": [
    "Excellent! The Random Forests has significantly less error!\n",
    "It's also ***96.5% accurate*** at guessing positive or negative sentiment! Wow!\n",
    "Let's also save the model into a pickle file"
   ]
  },
  {
   "cell_type": "code",
   "execution_count": 30,
   "id": "4866dcad-d039-4a30-9a80-52f2384aaa9d",
   "metadata": {},
   "outputs": [],
   "source": [
    "# Excellent! The Random Forests has significantly less error!\n",
    "# It's also 96.5% accurate at guessing positive or negative sentiment! Wow!\n",
    "# Let's also save the model into a pickle file\n",
    "import pickle\n",
    "\n",
    "with open(r\"RF_model.pkl\", \"wb\") as f:\n",
    "    pickle.dump(model_F, f)"
   ]
  },
  {
   "cell_type": "markdown",
   "id": "83a45efe-37ee-4635-bc8c-a6d2d4d606e0",
   "metadata": {},
   "source": [
    "# Part 4 - Testing / Visualization\n",
    "\n",
    "Now let's see what the models have to say about some test data.\n",
    "I isolate each sound by itself and predict its sentiment with both models."
   ]
  },
  {
   "cell_type": "code",
   "execution_count": 31,
   "id": "c4dd2d05-0903-40c7-82ab-e2e0599f790c",
   "metadata": {},
   "outputs": [
    {
     "name": "stdout",
     "output_type": "stream",
     "text": [
      "\u001b[1m2/2\u001b[0m \u001b[32m━━━━━━━━━━━━━━━━━━━━\u001b[0m\u001b[37m\u001b[0m \u001b[1m0s\u001b[0m 36ms/step\n",
      "0.03620864223704409\n"
     ]
    }
   ],
   "source": [
    "test_data = np.array([[int(i == j) for i in range(NUM_SOUNDS)] for j in range(NUM_SOUNDS)])\n",
    "predictions_F = model_F.predict(test_data)\n",
    "predictions_N = model_N.predict(test_data)\n",
    "difference = mean_squared_error(predictions_F, predictions_N)\n",
    "print(difference)\n",
    "\n"
   ]
  },
  {
   "cell_type": "markdown",
   "id": "d8a5dcaf-9d30-4396-94fe-4d36849cf76b",
   "metadata": {},
   "source": [
    "Awesome! The two models seem to be somewhat consistent with each other. I will use the random forests model for analysis, however."
   ]
  },
  {
   "cell_type": "code",
   "execution_count": 33,
   "id": "3ec2820c-d264-484d-8aa5-12faa7b8fe4a",
   "metadata": {},
   "outputs": [],
   "source": [
    "# A couple of definitions\n",
    "decoder = {value: key for key, value in translator.items()}\n",
    "categories = list(decoder.values())"
   ]
  },
  {
   "cell_type": "markdown",
   "id": "070d7af8-4346-4be7-aeb8-666c4ad27596",
   "metadata": {},
   "source": [
    "Instead of seeing all the results, I'm usually interested in the top and bottom figures. \n",
    "Let me write a function to extract only the top and bottom n results."
   ]
  },
  {
   "cell_type": "code",
   "execution_count": 70,
   "id": "be759057-3954-4a77-be82-f1ef66e8352e",
   "metadata": {},
   "outputs": [],
   "source": [
    "import operator\n",
    "\n",
    "def n_top_bot(ordered_values, n):\n",
    "    sorted_values = sorted(ordered_values)\n",
    "    sorted_categories = [k for k, v in sorted(zip(categories, ordered_values), key=operator.itemgetter(1))]\n",
    "    bot_7_imp = sorted_values[:n]\n",
    "    bot_7_cat = sorted_categories[:n]\n",
    "    top_7_imp = sorted_values[-n:]\n",
    "    top_7_cat = sorted_categories[-n:]\n",
    "    \n",
    "    return (bot_7_cat + top_7_cat, bot_7_imp + top_7_imp)"
   ]
  },
  {
   "cell_type": "markdown",
   "id": "71e77b7a-2379-4245-b0c6-bbc27d340ab9",
   "metadata": {},
   "source": [
    "Let's see which sounds the random forest model finds important to determine sentiment:"
   ]
  },
  {
   "cell_type": "code",
   "execution_count": 61,
   "id": "4e71f613-ce4a-4a64-b5c0-78d69ce17eb2",
   "metadata": {},
   "outputs": [
    {
     "data": {
      "image/png": "[encoded data removed]",
      "text/plain": [
       "<Figure size 640x480 with 1 Axes>"
      ]
     },
     "metadata": {},
     "output_type": "display_data"
    }
   ],
   "source": [
    "importances = model_F.feature_importances_\n",
    "\n",
    "cats, imps = n_top_bot(importances, 7)\n",
    "\n",
    "plt.bar(cats, imps)\n",
    "plt.ylabel(\"Weight\")\n",
    "plt.xlabel(\"Phonetic Sound\")\n",
    "plt.title(\"The Importances of Each Sound\")\n",
    "plt.show()"
   ]
  },
  {
   "cell_type": "markdown",
   "id": "380c0ba2-0765-45f4-9a8b-786074084482",
   "metadata": {},
   "source": [
    "Now, to find an answer to our question, I'm going to test what the sentimental importance of a certain sound was.\n",
    "To do this, I'm going to go through our list of words, and see the change in sentiment prediction when I remove that word"
   ]
  },
  {
   "cell_type": "code",
   "execution_count": null,
   "id": "01696925-808f-4a63-9d8a-1827de6544c7",
   "metadata": {},
   "outputs": [],
   "source": [
    "# Now, to find an answer to our question, I'm going to test what the sentimental importance of a certain sound was.\n",
    "# To do this, I'm going to go through our list of words, and see the change in sentiment prediction when I remove that word\n",
    "total_sents = np.zeros(NUM_SOUNDS)\n",
    "counts = np.zeros(NUM_SOUNDS)\n",
    "\n",
    "for sound in enum_sounds:\n",
    "    original_sent = model_F.predict([sound])[0]\n",
    "    for i in range(NUM_SOUNDS):\n",
    "        # If the sound is present, remove it and see the result.\n",
    "        if sound[i] == 0: continue\n",
    "        \n",
    "        sound[i] -= 1\n",
    "        new_sent = model_F.predict([sound])[0]\n",
    "        delta_sent = new_sent - original_sent\n",
    "        total_sents[i] += delta_sent\n",
    "        counts[i] += 1\n",
    "        sound[i] += 1\n",
    "            \n",
    "avg_sent_changes = total_sents / counts"
   ]
  },
  {
   "cell_type": "markdown",
   "id": "ed81a9ab-236b-43b4-9aff-0138d6de004f",
   "metadata": {},
   "source": [
    "Awesome, now let's graph the results:"
   ]
  },
  {
   "cell_type": "code",
   "execution_count": 72,
   "id": "18dff919-fef1-46cb-9ad0-0e8897dc1ee9",
   "metadata": {},
   "outputs": [
    {
     "data": {
      "image/png": "[encoded data removed]",
      "text/plain": [
       "<Figure size 640x480 with 1 Axes>"
      ]
     },
     "metadata": {},
     "output_type": "display_data"
    }
   ],
   "source": [
    "cats, results = n_top_bot(avg_sent_changes, 7)\n",
    "plt.bar(cats, results)\n",
    "plt.ylabel(\"Average Sentiment Change Upon Removal\")\n",
    "plt.xlabel(\"Phonetic Sound\")\n",
    "plt.title(\"The Sentiment Changes Upon Removal of Sounds\")\n",
    "plt.show()"
   ]
  },
  {
   "cell_type": "markdown",
   "id": "9822d415-e603-4c60-ab96-f947035c20c3",
   "metadata": {},
   "source": [
    "With that, my basic model is complete. I'll test it on full texts in the Processor lab file. Let's test it on a negative word that was not present within the training dataset: **gone**"
   ]
  },
  {
   "cell_type": "code",
   "execution_count": 76,
   "id": "1ffad612-d074-43c4-89aa-16d5005e832e",
   "metadata": {},
   "outputs": [
    {
     "data": {
      "text/plain": [
       "array([-0.324306])"
      ]
     },
     "execution_count": 76,
     "metadata": {},
     "output_type": "execute_result"
    }
   ],
   "source": [
    "test_word = np.zeros(NUM_SOUNDS)\n",
    "test_word[14] = 1\n",
    "test_word[2] = 1\n",
    "test_word[22] = 1\n",
    "\n",
    "# gone\n",
    "model_F.predict(np.array([test_word]))"
   ]
  },
  {
   "cell_type": "markdown",
   "id": "01cfac05-41e8-4201-9466-61d1e3880030",
   "metadata": {},
   "source": [
    "Very negative, and very good! This is a solid proof-of-concept that can be expanded upon through the incorpotation of live audio data."
   ]
  }
 ],
 "metadata": {
  "kernelspec": {
   "display_name": "Python 3 (ipykernel)",
   "language": "python",
   "name": "python3"
  },
  "language_info": {
   "codemirror_mode": {
    "name": "ipython",
    "version": 3
   },
   "file_extension": ".py",
   "mimetype": "text/x-python",
   "name": "python",
   "nbconvert_exporter": "python",
   "pygments_lexer": "ipython3",
   "version": "3.10.9"
  }
 },
 "nbformat": 4,
 "nbformat_minor": 5
}
