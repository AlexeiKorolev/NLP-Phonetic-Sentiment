{
 "cells": [
  {
   "cell_type": "code",
   "execution_count": 1,
   "id": "fd5c3817-ea16-4630-bcc0-0572757712d9",
   "metadata": {},
   "outputs": [],
   "source": [
    "# Let's get the necessary imports for a random forest model\n",
    "import numpy as np\n",
    "from sklearn.ensemble import RandomForestRegressor, RandomForestClassifier\n",
    "from sklearn.model_selection import train_test_split\n",
    "from sklearn.metrics import mean_squared_error, mean_absolute_error, accuracy_score"
   ]
  },
  {
   "cell_type": "markdown",
   "id": "34a7c630-19ae-41aa-9bef-8bf912986b09",
   "metadata": {},
   "source": [
    "Let's import the random forests model from the pickle file "
   ]
  },
  {
   "cell_type": "code",
   "execution_count": 2,
   "id": "03fe07ac-45a7-4651-9a58-c23a1de0ae72",
   "metadata": {},
   "outputs": [
    {
     "name": "stdout",
     "output_type": "stream",
     "text": [
      "RandomForestRegressor(n_estimators=200, random_state=42)\n"
     ]
    }
   ],
   "source": [
    "import pickle\n",
    "\n",
    "model:RandomForestRegressor = None\n",
    "with open(\"RF_model.pkl\", \"rb\") as file:\n",
    "    model = pickle.load(file)\n",
    "\n",
    "print(model)"
   ]
  },
  {
   "cell_type": "markdown",
   "id": "a3afeb7e-66f7-42d2-a5e9-6229bac89d52",
   "metadata": {},
   "source": [
    "Now let's create a function to format the input txt file"
   ]
  },
  {
   "cell_type": "code",
   "execution_count": 23,
   "id": "e3ea5fc4-5a81-4fc0-b1dd-976953121649",
   "metadata": {},
   "outputs": [],
   "source": [
    "def process_input(filepath):\n",
    "    input_words = []\n",
    "    \n",
    "    with open(filepath, encoding='utf-8') as input_file:\n",
    "        for line in input_file.readlines():\n",
    "            filtered_line = ''.join(c for c in line if (c.isalnum()) or c == ' ')\n",
    "            lower_line = str.lower(filtered_line)\n",
    "            words = lower_line.split(' ')\n",
    "            for word in words:\n",
    "                if not word == '':\n",
    "                    input_words.append(word)\n",
    "                    \n",
    "    with open(f\"Processed Input-{filepath}\", \"w\") as file:\n",
    "        file.writelines([str(word + \"\\n\") for word in input_words])\n",
    "process_input(\"The Raven.txt\")"
   ]
  },
  {
   "cell_type": "markdown",
   "id": "340b7448-adcd-4306-a6d1-950d69c0678d",
   "metadata": {},
   "source": [
    "Now, after feeding this file into the CMU Logios tool, we recieve \"phonetic_input.txt\"\n",
    "Let's now import and format it."
   ]
  },
  {
   "cell_type": "code",
   "execution_count": 28,
   "id": "1e5c23f3-9f52-4144-85d9-bd41f6e18751",
   "metadata": {},
   "outputs": [
    {
     "name": "stdout",
     "output_type": "stream",
     "text": [
      "-117.12100966666252\n"
     ]
    }
   ],
   "source": [
    "translator = {'AA': 0,\n",
    " 'AE': 1, 'AH': 2, 'AO': 3, 'AW': 4, 'AY': 5, 'B': 6, 'CH': 7, 'D': 8, 'DH': 9, 'EH': 10, 'ER': 11, 'EY': 12, 'F': 13, 'G': 14, 'HH': 15, 'IH': 16, 'IY': 17, 'JH': 18, 'K': 19, 'L': 20, 'M': 21,\n",
    " 'N': 22, 'NG': 23, 'OW': 24, 'OY': 25, 'P': 26, 'R': 27, 'S': 28, 'SH': 29, 'T': 30, 'TH': 31, 'UH': 32, 'UW': 33,\n",
    " 'V': 34, 'W': 35, 'Y': 36, 'Z': 37,'ZH': 38}\n",
    "\n",
    "NUM_SOUNDS = 39\n",
    "\n",
    "def get_total_sentiment(phonetic_filepath):\n",
    "    input_words = []\n",
    "    total_sentiment = 0\n",
    "    tracker = 0\n",
    "    #input_sounds = np.zeros(NUM_SOUNDS)\n",
    "    with open(phonetic_filepath) as file:\n",
    "        for line in file.readlines():\n",
    "            split_line = line.split('\\t')\n",
    "            word = str.lower(split_line[0].split('(')[0])\n",
    "            sound = split_line[1].split('\\n')[0].split(\" \")\n",
    "            input_sounds = np.zeros(NUM_SOUNDS)\n",
    "            for s in sound:\n",
    "                index = translator[s]\n",
    "                input_sounds[index]+=1\n",
    "            total_sentiment += model.predict([input_sounds])[0]\n",
    "            input_words.append(word)\n",
    "    return total_sentiment\n",
    "        \n",
    "print(get_total_sentiment(\"Phonetic Input-The Raven.txt\"))"
   ]
  },
  {
   "cell_type": "markdown",
   "id": "1cb715dc-b03d-476a-b0c7-0032d81d9b39",
   "metadata": {},
   "source": [
    "Excellent! The Raven seems to be a very negative text, which is confirmed by it being a poem based on horror.\n",
    "Let's do the same test with a more light-hearted poem, like the lyrics to What a Wonderful World by Louis Armstrong."
   ]
  },
  {
   "cell_type": "code",
   "execution_count": 29,
   "id": "d8e438db-dfc6-424f-bf81-bc590e3e5026",
   "metadata": {},
   "outputs": [
    {
     "name": "stdout",
     "output_type": "stream",
     "text": [
      "-5.784449688401878\n"
     ]
    }
   ],
   "source": [
    "\n",
    "\n",
    "process_input(\"What a Wonderful World.txt\")\n",
    "print(get_total_sentiment(\"Phonetic Input - What a Wonderful World.txt\"))"
   ]
  },
  {
   "cell_type": "markdown",
   "id": "d0134800-31a7-403b-ad4d-e72899ccbbe9",
   "metadata": {},
   "source": [
    "Although the result seems to still be negative, the estimation is significantly more positive. This shows that there may be some negative bias for analyzing big text, but nonetheless, the model can tell the difference between positive and negative sentiment!"
   ]
  }
 ],
 "metadata": {
  "kernelspec": {
   "display_name": "Python 3 (ipykernel)",
   "language": "python",
   "name": "python3"
  },
  "language_info": {
   "codemirror_mode": {
    "name": "ipython",
    "version": 3
   },
   "file_extension": ".py",
   "mimetype": "text/x-python",
   "name": "python",
   "nbconvert_exporter": "python",
   "pygments_lexer": "ipython3",
   "version": "3.10.9"
  }
 },
 "nbformat": 4,
 "nbformat_minor": 5
}
